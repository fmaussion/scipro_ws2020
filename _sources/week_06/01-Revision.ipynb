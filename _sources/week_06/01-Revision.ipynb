{
 "cells": [
  {
   "cell_type": "markdown",
   "metadata": {},
   "source": [
    "# Revision"
   ]
  },
  {
   "cell_type": "markdown",
   "metadata": {},
   "source": [
    "This week we won't add new content in order to let some of you breathe and catch up with the huge amount of stuff you have learned so far. Go back to the lectures you haven't understood well and re-visit the assignments and their solutions. \n",
    "\n",
    "I you haven't done so already, you can follow the [Scipy Lecture Notes](https://scipy-lectures.org/) tutorials, Chapter 1 in particular.\n",
    "\n",
    "We will also do some \"quizz\" and Q&A in class to refresh some things!"
   ]
  }
 ],
 "metadata": {
  "kernelspec": {
   "display_name": "Python 3",
   "language": "python",
   "name": "python3"
  },
  "language_info": {
   "codemirror_mode": {
    "name": "ipython",
    "version": 3
   },
   "file_extension": ".py",
   "mimetype": "text/x-python",
   "name": "python",
   "nbconvert_exporter": "python",
   "pygments_lexer": "ipython3",
   "version": "3.8.5"
  }
 },
 "nbformat": 4,
 "nbformat_minor": 4
}
