{
 "cells": [
  {
   "cell_type": "markdown",
   "metadata": {},
   "source": [
    "# Assignment #01"
   ]
  },
  {
   "cell_type": "markdown",
   "metadata": {},
   "source": [
    "This week's assignment is about getting you more comfortable with linux and able to use python on your computer before doing more complicated things."
   ]
  },
  {
   "cell_type": "markdown",
   "metadata": {},
   "source": [
    "## Exercise #01-01: linux tutorial"
   ]
  },
  {
   "cell_type": "markdown",
   "metadata": {},
   "source": [
    "Follow the linux tutorial from {doc}`01-Linux` on MyBinder (no installation needed)."
   ]
  },
  {
   "cell_type": "markdown",
   "metadata": {},
   "source": [
    "## Exercise #01-02a (not in 2020): install python on your university account"
   ]
  },
  {
   "cell_type": "markdown",
   "metadata": {},
   "source": [
    "Follow the instructions from {ref}`installation:uni` to install python on your linux account at the university."
   ]
  },
  {
   "cell_type": "markdown",
   "metadata": {},
   "source": [
    "## Exercise #01-02b: install python on your laptop"
   ]
  },
  {
   "cell_type": "markdown",
   "metadata": {},
   "source": [
    "Follow the instructions from {ref}`installation:pc` to install python on your laptop."
   ]
  },
  {
   "cell_type": "markdown",
   "metadata": {},
   "source": [
    ":::{admonition,note} Online learning in 2020\n",
    "In previous years, I would make the installation on the University lab mandatory - this would be enough for the entire semester. This year is different though, and working in the computer lab is not possible. For this week, you can use MyBinder - but starting from next week I recommend to have a working python on your PC as well.\n",
    ":::"
   ]
  },
  {
   "cell_type": "markdown",
   "metadata": {},
   "source": [
    "## Exercise #01-03: python script instead of bash"
   ]
  },
  {
   "cell_type": "markdown",
   "metadata": {},
   "source": [
    "Use linux on MyBinder for this exercise. Write a python script called ``my_cli_test.py``. The script can be as simple as you wish, but it should produce one printed output (a simple \"Hello world!\" would suffice!). Put this script in a new directory in your HOME, called ``bin``. Now make this script callable from everywhere (not just from the ``bin`` directory) with a call to ``$ my_cli_test.py``. Make this change \"permanent\" for your HOME environment."
   ]
  }
 ],
 "metadata": {
  "hide_input": false,
  "kernelspec": {
   "display_name": "Python 3",
   "language": "python",
   "name": "python3"
  },
  "language_info": {
   "codemirror_mode": {
    "name": "ipython",
    "version": 3
   },
   "file_extension": ".py",
   "mimetype": "text/x-python",
   "name": "python",
   "nbconvert_exporter": "python",
   "pygments_lexer": "ipython3",
   "version": "3.8.5"
  },
  "toc": {
   "base_numbering": 1,
   "nav_menu": {},
   "number_sections": false,
   "sideBar": true,
   "skip_h1_title": false,
   "title_cell": "Table of Contents",
   "title_sidebar": "Contents",
   "toc_cell": false,
   "toc_position": {},
   "toc_section_display": "block",
   "toc_window_display": false
  }
 },
 "nbformat": 4,
 "nbformat_minor": 4
}
